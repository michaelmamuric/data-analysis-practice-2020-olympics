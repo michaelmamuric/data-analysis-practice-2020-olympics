{
 "cells": [
  {
   "cell_type": "code",
   "execution_count": 136,
   "source": [
    "# import libraries\r\n",
    "import pandas as pd\r\n",
    "import requests as rq"
   ],
   "outputs": [],
   "metadata": {}
  },
  {
   "cell_type": "code",
   "execution_count": 137,
   "source": [
    "# initialize dataframe\r\n",
    "df = pd.read_csv('./assets/Tokyo Medals 2021.csv')\r\n",
    "# display first 5 rows\r\n",
    "df.head()"
   ],
   "outputs": [
    {
     "output_type": "execute_result",
     "data": {
      "text/plain": [
       "                      Country  Gold Medal  Silver Medal  Bronze Medal  Total  \\\n",
       "0    United States of America          39            41            33    113   \n",
       "1  People's Republic of China          38            32            18     88   \n",
       "2                       Japan          27            14            17     58   \n",
       "3               Great Britain          22            21            22     65   \n",
       "4                         ROC          20            28            23     71   \n",
       "\n",
       "   Rank By Total  \n",
       "0              1  \n",
       "1              2  \n",
       "2              5  \n",
       "3              4  \n",
       "4              3  "
      ],
      "text/html": [
       "<div>\n",
       "<style scoped>\n",
       "    .dataframe tbody tr th:only-of-type {\n",
       "        vertical-align: middle;\n",
       "    }\n",
       "\n",
       "    .dataframe tbody tr th {\n",
       "        vertical-align: top;\n",
       "    }\n",
       "\n",
       "    .dataframe thead th {\n",
       "        text-align: right;\n",
       "    }\n",
       "</style>\n",
       "<table border=\"1\" class=\"dataframe\">\n",
       "  <thead>\n",
       "    <tr style=\"text-align: right;\">\n",
       "      <th></th>\n",
       "      <th>Country</th>\n",
       "      <th>Gold Medal</th>\n",
       "      <th>Silver Medal</th>\n",
       "      <th>Bronze Medal</th>\n",
       "      <th>Total</th>\n",
       "      <th>Rank By Total</th>\n",
       "    </tr>\n",
       "  </thead>\n",
       "  <tbody>\n",
       "    <tr>\n",
       "      <th>0</th>\n",
       "      <td>United States of America</td>\n",
       "      <td>39</td>\n",
       "      <td>41</td>\n",
       "      <td>33</td>\n",
       "      <td>113</td>\n",
       "      <td>1</td>\n",
       "    </tr>\n",
       "    <tr>\n",
       "      <th>1</th>\n",
       "      <td>People's Republic of China</td>\n",
       "      <td>38</td>\n",
       "      <td>32</td>\n",
       "      <td>18</td>\n",
       "      <td>88</td>\n",
       "      <td>2</td>\n",
       "    </tr>\n",
       "    <tr>\n",
       "      <th>2</th>\n",
       "      <td>Japan</td>\n",
       "      <td>27</td>\n",
       "      <td>14</td>\n",
       "      <td>17</td>\n",
       "      <td>58</td>\n",
       "      <td>5</td>\n",
       "    </tr>\n",
       "    <tr>\n",
       "      <th>3</th>\n",
       "      <td>Great Britain</td>\n",
       "      <td>22</td>\n",
       "      <td>21</td>\n",
       "      <td>22</td>\n",
       "      <td>65</td>\n",
       "      <td>4</td>\n",
       "    </tr>\n",
       "    <tr>\n",
       "      <th>4</th>\n",
       "      <td>ROC</td>\n",
       "      <td>20</td>\n",
       "      <td>28</td>\n",
       "      <td>23</td>\n",
       "      <td>71</td>\n",
       "      <td>3</td>\n",
       "    </tr>\n",
       "  </tbody>\n",
       "</table>\n",
       "</div>"
      ]
     },
     "metadata": {},
     "execution_count": 137
    }
   ],
   "metadata": {}
  },
  {
   "cell_type": "code",
   "execution_count": 138,
   "source": [
    "# The following are disputed countries in the 2020 Olympics for various reasons.\r\n",
    "# Russia competed as ROC (Russian Olympic Committee) due to a ban from the World Anti-Doping Agency\r\n",
    "# Taiwan (Republic of China) competed as Chinese Taipei due to the One China Policy\r\n",
    "# Hong Kong, China does not return anything from the API, but plain Hong Kong does\r\n",
    "# Macedonia changed its name to North Macedonia in 2019; this information is still not reflected on the API\r\n",
    "disputed_countries = {\r\n",
    "    'ROC': 'Russian Federation', \r\n",
    "    'Chinese Taipei': 'Republic of China',\r\n",
    "    'Hong Kong, China': 'Hong Kong',\r\n",
    "    'North Macedonia': 'Macedonia'\r\n",
    "}"
   ],
   "outputs": [],
   "metadata": {}
  },
  {
   "cell_type": "code",
   "execution_count": 139,
   "source": [
    "\"\"\"\r\n",
    "    This function will return the field name specified from the restcountries API\r\n",
    "    full_country_name - The country's full name\r\n",
    "    field - Field to be retrieved\r\n",
    "\"\"\"\r\n",
    "def get_field_name(full_country_name, field):\r\n",
    "    field_value=None\r\n",
    "    country_name=''\r\n",
    "\r\n",
    "    # check first if there is an entry in the disputed_countries dictionary\r\n",
    "    try:\r\n",
    "        country_name = disputed_countries[full_country_name]\r\n",
    "    # exception will be triggered if key is non-existent in dictionary\r\n",
    "    except KeyError:\r\n",
    "        country_name = full_country_name\r\n",
    "    finally:\r\n",
    "        # based on personal experience, using the fullText parameter yields more accurate results\r\n",
    "        response = rq.get('https://restcountries.eu/rest/v2/name/'+ country_name +'?fullText=true')\r\n",
    "\r\n",
    "        # API call was successful\r\n",
    "        if response.status_code == 200:\r\n",
    "            field_value = response.json()[0][field]\r\n",
    "        # API call was unsuccessful: attempt another API call without the fullText parameter\r\n",
    "        else:\r\n",
    "            response2 = rq.get('https://restcountries.eu/rest/v2/name/'+ country_name)\r\n",
    "            if response2.status_code == 200:\r\n",
    "                field_value = response2.json()[0][field]\r\n",
    "\r\n",
    "        return field_value"
   ],
   "outputs": [],
   "metadata": {}
  },
  {
   "cell_type": "code",
   "execution_count": 140,
   "source": [
    "# regions will be a list where each country's region will be stored\r\n",
    "regions = []\r\n",
    "# create a reference to df['Country'] column for easier referencing\r\n",
    "df_country = df['Country']\r\n",
    "\r\n",
    "# loop thru the df['Country'] column\r\n",
    "for index in range (0, len(df_country)):\r\n",
    "    regions.append(get_field_name(df_country[index], 'region'))"
   ],
   "outputs": [],
   "metadata": {}
  },
  {
   "cell_type": "code",
   "execution_count": 141,
   "source": [
    "# create a new column called Region in the dataframe, and the values will be the regions obtained from the previous step\r\n",
    "# Region will be immediately after the first column (Country)\r\n",
    "df.insert(1, 'Region', regions)"
   ],
   "outputs": [],
   "metadata": {}
  },
  {
   "cell_type": "code",
   "execution_count": 145,
   "source": [
    "# verify results\r\n",
    "df.head()"
   ],
   "outputs": [
    {
     "output_type": "execute_result",
     "data": {
      "text/plain": [
       "                      Country    Region  Gold Medal  Silver Medal  \\\n",
       "0    United States of America  Americas          39            41   \n",
       "1  People's Republic of China      Asia          38            32   \n",
       "2                       Japan      Asia          27            14   \n",
       "3               Great Britain    Europe          22            21   \n",
       "4                         ROC    Europe          20            28   \n",
       "\n",
       "   Bronze Medal  Total  Rank By Total  \n",
       "0            33    113              1  \n",
       "1            18     88              2  \n",
       "2            17     58              5  \n",
       "3            22     65              4  \n",
       "4            23     71              3  "
      ],
      "text/html": [
       "<div>\n",
       "<style scoped>\n",
       "    .dataframe tbody tr th:only-of-type {\n",
       "        vertical-align: middle;\n",
       "    }\n",
       "\n",
       "    .dataframe tbody tr th {\n",
       "        vertical-align: top;\n",
       "    }\n",
       "\n",
       "    .dataframe thead th {\n",
       "        text-align: right;\n",
       "    }\n",
       "</style>\n",
       "<table border=\"1\" class=\"dataframe\">\n",
       "  <thead>\n",
       "    <tr style=\"text-align: right;\">\n",
       "      <th></th>\n",
       "      <th>Country</th>\n",
       "      <th>Region</th>\n",
       "      <th>Gold Medal</th>\n",
       "      <th>Silver Medal</th>\n",
       "      <th>Bronze Medal</th>\n",
       "      <th>Total</th>\n",
       "      <th>Rank By Total</th>\n",
       "    </tr>\n",
       "  </thead>\n",
       "  <tbody>\n",
       "    <tr>\n",
       "      <th>0</th>\n",
       "      <td>United States of America</td>\n",
       "      <td>Americas</td>\n",
       "      <td>39</td>\n",
       "      <td>41</td>\n",
       "      <td>33</td>\n",
       "      <td>113</td>\n",
       "      <td>1</td>\n",
       "    </tr>\n",
       "    <tr>\n",
       "      <th>1</th>\n",
       "      <td>People's Republic of China</td>\n",
       "      <td>Asia</td>\n",
       "      <td>38</td>\n",
       "      <td>32</td>\n",
       "      <td>18</td>\n",
       "      <td>88</td>\n",
       "      <td>2</td>\n",
       "    </tr>\n",
       "    <tr>\n",
       "      <th>2</th>\n",
       "      <td>Japan</td>\n",
       "      <td>Asia</td>\n",
       "      <td>27</td>\n",
       "      <td>14</td>\n",
       "      <td>17</td>\n",
       "      <td>58</td>\n",
       "      <td>5</td>\n",
       "    </tr>\n",
       "    <tr>\n",
       "      <th>3</th>\n",
       "      <td>Great Britain</td>\n",
       "      <td>Europe</td>\n",
       "      <td>22</td>\n",
       "      <td>21</td>\n",
       "      <td>22</td>\n",
       "      <td>65</td>\n",
       "      <td>4</td>\n",
       "    </tr>\n",
       "    <tr>\n",
       "      <th>4</th>\n",
       "      <td>ROC</td>\n",
       "      <td>Europe</td>\n",
       "      <td>20</td>\n",
       "      <td>28</td>\n",
       "      <td>23</td>\n",
       "      <td>71</td>\n",
       "      <td>3</td>\n",
       "    </tr>\n",
       "  </tbody>\n",
       "</table>\n",
       "</div>"
      ]
     },
     "metadata": {},
     "execution_count": 145
    }
   ],
   "metadata": {}
  },
  {
   "cell_type": "code",
   "execution_count": 144,
   "source": [
    "# Check if any null values are present after transformation\r\n",
    "df.isnull().sum()"
   ],
   "outputs": [
    {
     "output_type": "execute_result",
     "data": {
      "text/plain": [
       "Country          0\n",
       "Region           0\n",
       "Gold Medal       0\n",
       "Silver Medal     0\n",
       "Bronze Medal     0\n",
       "Total            0\n",
       "Rank By Total    0\n",
       "dtype: int64"
      ]
     },
     "metadata": {},
     "execution_count": 144
    }
   ],
   "metadata": {}
  }
 ],
 "metadata": {
  "orig_nbformat": 4,
  "language_info": {
   "name": "python",
   "version": "3.8.8",
   "mimetype": "text/x-python",
   "codemirror_mode": {
    "name": "ipython",
    "version": 3
   },
   "pygments_lexer": "ipython3",
   "nbconvert_exporter": "python",
   "file_extension": ".py"
  },
  "kernelspec": {
   "name": "python3",
   "display_name": "Python 3.8.8 64-bit ('base': conda)"
  },
  "interpreter": {
   "hash": "54e72497fd64358f52832107e3cdfaf9f975ee2964d8f26ed128ba56fc24de73"
  }
 },
 "nbformat": 4,
 "nbformat_minor": 2
}